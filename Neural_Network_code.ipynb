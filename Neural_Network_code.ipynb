{
 "cells": [
  {
   "cell_type": "markdown",
   "id": "c100864a",
   "metadata": {},
   "source": [
    "# Incentive\n",
    "The aim of this notebook is to build a neural network that acts as logistic regression. The process will be raw, that is, without using specialized libraries (Tensorflow, Keras). I will only use [Numpy](https://numpy.org/) to be able to perform the necessary calculations. The neural network consists, specifically, in a Cat/Non-cat neural network.\n",
    "\n",
    "This notebook is made up of two clearly differentiated sections:\n",
    "- [Overview of the problem set](#1.-Overview-of-the-problem-set)\n",
    "\n",
    "- [Design of the algorithm](#2.-Design-of-the-algorithm)"
   ]
  },
  {
   "cell_type": "code",
   "execution_count": 1,
   "id": "0cf252a9",
   "metadata": {},
   "outputs": [
    {
     "name": "stdout",
     "output_type": "stream",
     "text": [
      "Collecting h5py\n",
      "  Downloading h5py-3.7.0-cp310-cp310-win_amd64.whl (2.6 MB)\n",
      "     ---------------------------------------- 2.6/2.6 MB 16.7 MB/s eta 0:00:00\n",
      "Requirement already satisfied: numpy>=1.14.5 in c:\\users\\valen\\appdata\\local\\programs\\python\\python310\\lib\\site-packages (from h5py) (1.21.3)\n",
      "Installing collected packages: h5py\n",
      "Successfully installed h5py-3.7.0\n"
     ]
    }
   ],
   "source": [
    "!pip install h5py"
   ]
  },
  {
   "cell_type": "code",
   "execution_count": 2,
   "id": "218904f3",
   "metadata": {},
   "outputs": [],
   "source": [
    "#The CATaset\n",
    "!tar -xf ./compressedFiles/1_First_Neural_Network.tar.xz\n",
    "import numpy as np\n",
    "import h5py # package to interact with a dataset that is stored on an H5 file.\n",
    "from lr_utils import load_dataset #own function of the dataset useful to load it"
   ]
  },
  {
   "cell_type": "markdown",
   "id": "c20a9ebf",
   "metadata": {},
   "source": [
    "## 1. Overview of the problem set"
   ]
  },
  {
   "cell_type": "markdown",
   "id": "0737b78a",
   "metadata": {},
   "source": [
    "## 2. Design of the algorithm"
   ]
  },
  {
   "cell_type": "code",
   "execution_count": null,
   "id": "a188cd16",
   "metadata": {},
   "outputs": [],
   "source": []
  }
 ],
 "metadata": {
  "kernelspec": {
   "display_name": "Python 3 (ipykernel)",
   "language": "python",
   "name": "python3"
  },
  "language_info": {
   "codemirror_mode": {
    "name": "ipython",
    "version": 3
   },
   "file_extension": ".py",
   "mimetype": "text/x-python",
   "name": "python",
   "nbconvert_exporter": "python",
   "pygments_lexer": "ipython3",
   "version": "3.10.6"
  }
 },
 "nbformat": 4,
 "nbformat_minor": 5
}
